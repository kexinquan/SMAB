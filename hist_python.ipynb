{
 "cells": [
  {
   "cell_type": "code",
   "execution_count": 1,
   "metadata": {},
   "outputs": [],
   "source": [
    "import numpy as np\n",
    "import matplotlib as plt"
   ]
  },
  {
   "cell_type": "code",
   "execution_count": 16,
   "metadata": {},
   "outputs": [],
   "source": [
    "##Simulate a decision-making optimization strategy with three arms: 30%, 60%, and 90%.\n",
    "\n",
    "#clear\n",
    "ab = ([5,10], [5,10], [5,10]); #prior assumption: 1/3 for each\n",
    "p = [0.3, 0.6, 0.9]; #true probability of the arms\n",
    "w = 0.3; #initial accuracy of execution for the optimal learning rule\n",
    "N = 3; #number of arms"
   ]
  },
  {
   "cell_type": "code",
   "execution_count": 49,
   "metadata": {},
   "outputs": [
    {
     "data": {
      "text/plain": [
       "array([0.33333333, 0.33333333, 0.33333333])"
      ]
     },
     "execution_count": 49,
     "metadata": {},
     "output_type": "execute_result"
    }
   ],
   "source": [
    "# just for testing \n",
    "# ab[0][0]\n",
    "# arm1=1\n",
    "# prob = []\n",
    "# ab[arm1][0]/((ab[arm1][0] + ab[arm1][1]))\n",
    "\n",
    "# for i in range(3):\n",
    "# # prob[0]=ab[arm1][0]/((ab[arm1][0] + ab[arm1][1]))\n",
    "#     prob=np.append(prob,ab[arm1][0]/((ab[arm1][0] + ab[arm1][1])))\n",
    "# prob"
   ]
  },
  {
   "cell_type": "code",
   "execution_count": 70,
   "metadata": {},
   "outputs": [],
   "source": [
    "data = np.zeros((4, 100))#create empty matrix\n",
    "\n",
    "for trial in range(100):\n",
    "    post_prob = []\n",
    "    P_D = np.zeros((1,3))\n",
    "    for arm1 in range(3):\n",
    "        post_prob=np.append(post_prob,ab[arm1][0]/((ab[arm1][0] + ab[arm1][1])))\n",
    "\n",
    "        \n",
    "#     # calcualte the suboptimal decision rule\n",
    "    Nmax = sum((post_prob == max(post_prob)))\n",
    "#     print(max(post_prob))\n",
    "    # In case all arms have the same probability\n",
    "    if Nmax == N:\n",
    "        P_D = post_prob\n",
    "#         print(P_D)\n",
    "    else:\n",
    "        for arm in range(3):\n",
    "            if post_prob[arm] == max(post_prob):\n",
    "                P_D[arm] = w/Nmax\n",
    "            else:\n",
    "                P_D[arm] = (1 - w)/(N-Nmax)        \n",
    "#     print(\"P_D value: \",P_D)   \n",
    "\n",
    "\n",
    "    # A decision(either 1,2, or 3) is made based on the prob of choosing \n",
    "    # each ice hole, based on the suboptimal decision rule\n",
    "    decision = np.cumsum([0, P_D]).sum() # need edit for decision\n",
    "#     print(\"what I get after doing np.cumsum:\", np.cumsum([P_D]))\n",
    "\n",
    "\n",
    "    # reward outcome\n",
    "    result =np.random.multinomial(1, [p(decision), 1-p(decision)]) #need edit for p\n",
    "  \n",
    "    # haven't go thrw yet\n",
    "'''\n",
    "    ab(decision,1) = ab(decision,1)+result(1)\n",
    "    ab(decision,2) = ab(decision,2)+result(2)\n",
    "    plotbetapdfs(ab, [3,2,trial+1], tally)\n",
    "    \n",
    "    store in data\n",
    "    data(1,trial) = trial\n",
    "    data(2,trial) = decision * 30\n",
    "    data(3,trial) = result(1)\n",
    "    data(4,trial) = sum(data(3,1:trial))\n",
    "    \n",
    "    w = w + (0.4/100)'''"
   ]
  },
  {
   "cell_type": "code",
   "execution_count": null,
   "metadata": {},
   "outputs": [],
   "source": []
  }
 ],
 "metadata": {
  "kernelspec": {
   "display_name": "Python 3",
   "language": "python",
   "name": "python3"
  },
  "language_info": {
   "codemirror_mode": {
    "name": "ipython",
    "version": 3
   },
   "file_extension": ".py",
   "mimetype": "text/x-python",
   "name": "python",
   "nbconvert_exporter": "python",
   "pygments_lexer": "ipython3",
   "version": "3.7.3"
  }
 },
 "nbformat": 4,
 "nbformat_minor": 2
}
